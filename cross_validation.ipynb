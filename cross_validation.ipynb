{
  "nbformat": 4,
  "nbformat_minor": 0,
  "metadata": {
    "colab": {
      "provenance": [],
      "toc_visible": true,
      "include_colab_link": true
    },
    "kernelspec": {
      "name": "python3",
      "display_name": "Python 3"
    },
    "language_info": {
      "name": "python"
    }
  },
  "cells": [
    {
      "cell_type": "markdown",
      "metadata": {
        "id": "view-in-github",
        "colab_type": "text"
      },
      "source": [
        "<a href=\"https://colab.research.google.com/github/zhaooao/ai./blob/main/cross_validation.ipynb\" target=\"_parent\"><img src=\"https://colab.research.google.com/assets/colab-badge.svg\" alt=\"Open In Colab\"/></a>"
      ]
    },
    {
      "cell_type": "markdown",
      "source": [
        "## 驗證集\n",
        "將訓練集部分保留，用於模型驗證"
      ],
      "metadata": {
        "id": "t0dYJch3rDP7"
      }
    },
    {
      "cell_type": "code",
      "source": [
        "from sklearn.svm import SVC # \"Support vector classifier\"\n",
        "from sklearn.datasets import load_iris\n",
        "from sklearn.model_selection import train_test_split\n",
        "from sklearn.metrics import accuracy_score"
      ],
      "metadata": {
        "id": "99BBBHpJq1LW"
      },
      "execution_count": 1,
      "outputs": []
    },
    {
      "cell_type": "markdown",
      "source": [
        "這裡我們用鸢尾花 (Iris) 多分类数据集測試。\n",
        "\n",
        "（課外閱讀：https://blog.csdn.net/u013172930/article/details/146293440 ）"
      ],
      "metadata": {
        "id": "gmjpxMXprUUy"
      }
    },
    {
      "cell_type": "code",
      "source": [
        "iris = load_iris()\n",
        "X, y = iris.data, iris.target"
      ],
      "metadata": {
        "id": "u_FG6q3lq5Qy"
      },
      "execution_count": 2,
      "outputs": []
    },
    {
      "cell_type": "markdown",
      "source": [
        "進行模型驗證的一種方法是使用所謂的保留集 (holdout set)：也就是說，我們保留一些資料子集，然後使用這個保留集來檢查模型效能。"
      ],
      "metadata": {
        "id": "j-ha2iu0rwSk"
      }
    },
    {
      "cell_type": "code",
      "source": [
        "# split the data with 50% in each set\n",
        "X1, X2, y1, y2 = train_test_split(X, y, random_state=0, test_size=0.5)"
      ],
      "metadata": {
        "id": "BrUYR526q9q_"
      },
      "execution_count": 3,
      "outputs": []
    },
    {
      "cell_type": "markdown",
      "source": [
        "然後我們選擇一個模型，在一組資料（訓練集（X1，y1））上擬合該模型，並在第二組資料（驗證集（X2，y2））上評估該模型"
      ],
      "metadata": {
        "id": "Qc-Wa-qqr5Rw"
      }
    },
    {
      "cell_type": "code",
      "source": [
        "model = SVC(kernel='rbf', gamma=0.01, C=10)\n",
        "# fit the model on one set of data\n",
        "model.fit(X1, y1)\n",
        "\n",
        "# evaluate the model on the second set of data\n",
        "y2_model = model.predict(X2)\n",
        "accuracy_score(y2, y2_model)"
      ],
      "metadata": {
        "colab": {
          "base_uri": "https://localhost:8080/"
        },
        "id": "q_cyMMmuq_Wz",
        "outputId": "34e93ce9-5d76-442f-ab15-29966dca4747"
      },
      "execution_count": 4,
      "outputs": [
        {
          "output_type": "execute_result",
          "data": {
            "text/plain": [
              "0.9466666666666667"
            ]
          },
          "metadata": {},
          "execution_count": 4
        }
      ]
    },
    {
      "cell_type": "markdown",
      "source": [
        "Q: 使用保留集進行模型驗證有何缺點？\n",
        "\n",
        "A: 使用保留集進行模型驗證的一個缺點是，我們會在模型訓練中失去一部分資料。在上述情況下，一半的資料集對模型訓練沒有貢獻！這並非最佳選擇，並且可能會導致問題——尤其是在初始訓練資料集較小的情況下。"
      ],
      "metadata": {
        "id": "9yi7SQ-WsDTB"
      }
    },
    {
      "cell_type": "markdown",
      "source": [
        "## 交叉驗證 (cross validation)"
      ],
      "metadata": {
        "id": "1Cafz2Oessdu"
      }
    },
    {
      "cell_type": "markdown",
      "source": [
        "解決保留方法缺點的一種方法是使用交叉驗證；即進行一系列擬合，其中資料的每個子集既用作訓練集，又用作驗證集。"
      ],
      "metadata": {
        "id": "_78zbkmls38j"
      }
    },
    {
      "cell_type": "markdown",
      "source": [
        "這裡我們進行了兩次驗證試驗，交替使用每一半資料作為保留集。"
      ],
      "metadata": {
        "id": "dOL8WMwCs6li"
      }
    },
    {
      "cell_type": "code",
      "execution_count": 5,
      "metadata": {
        "colab": {
          "base_uri": "https://localhost:8080/"
        },
        "id": "ibN1Unm9qqPh",
        "outputId": "2d24716d-347e-406b-c192-39c42533ef98"
      },
      "outputs": [
        {
          "output_type": "execute_result",
          "data": {
            "text/plain": [
              "(0.9866666666666667, 0.9466666666666667)"
            ]
          },
          "metadata": {},
          "execution_count": 5
        }
      ],
      "source": [
        "# fit the model on one set of data\n",
        "y2_model = model.fit(X1, y1).predict(X2)\n",
        "y1_model = model.fit(X2, y2).predict(X1)\n",
        "accuracy_score(y1, y1_model), accuracy_score(y2, y2_model)"
      ]
    },
    {
      "cell_type": "markdown",
      "source": [
        "最終結果是兩個準確率分數，我們可以將它們合併（例如取平均值），從而更好地衡量模型的整體表現。這種特殊的交叉驗證形式是雙重交叉驗證，將資料分成兩組，並分別用作驗證集。"
      ],
      "metadata": {
        "id": "NA8qIlAetD5E"
      }
    },
    {
      "cell_type": "markdown",
      "source": [
        "我們可以擴展這個想法，使用更多的試驗，以及更多的數據折疊。\n",
        "\n",
        "這裡我們將資料分成五組，並依序使用每一組來評估其餘 4/5 資料的模型適配度。"
      ],
      "metadata": {
        "id": "IKBs3uimtJ97"
      }
    },
    {
      "cell_type": "code",
      "source": [
        "from sklearn.model_selection import cross_val_score\n",
        "cross_val_score(model, X, y, cv=5)"
      ],
      "metadata": {
        "colab": {
          "base_uri": "https://localhost:8080/"
        },
        "id": "X-lH0hGdq0di",
        "outputId": "824ca9a3-30f8-4d2b-f1c0-062fae056b63"
      },
      "execution_count": 6,
      "outputs": [
        {
          "output_type": "execute_result",
          "data": {
            "text/plain": [
              "array([0.96666667, 1.        , 0.96666667, 0.96666667, 1.        ])"
            ]
          },
          "metadata": {},
          "execution_count": 6
        }
      ]
    }
  ]
}